{
 "cells": [
  {
   "cell_type": "markdown",
   "id": "0cd22c1c-23b5-4d14-8555-d2c4c805f8c5",
   "metadata": {},
   "source": [
    "## Star Excercise"
   ]
  },
  {
   "cell_type": "markdown",
   "id": "f9e6206e-50a7-4612-8c70-68903a5aa788",
   "metadata": {},
   "source": [
    "### 1. Right angled Triangle "
   ]
  },
  {
   "cell_type": "code",
   "execution_count": 8,
   "id": "8266b0fb-4d6f-41eb-ba41-aba5112578f2",
   "metadata": {},
   "outputs": [
    {
     "name": "stdin",
     "output_type": "stream",
     "text": [
      "Enter number of rows:  7\n"
     ]
    },
    {
     "name": "stdout",
     "output_type": "stream",
     "text": [
      "* \n",
      "* * \n",
      "* * * \n",
      "* * * * \n",
      "* * * * * \n",
      "* * * * * * \n",
      "* * * * * * * \n"
     ]
    }
   ],
   "source": [
    "n = int(input(\"Enter number of rows: \"))\n",
    "for i in range(n):\n",
    "    for j in range(i+1):\n",
    "        print(\"*\", end= \" \")\n",
    "    print()\n"
   ]
  },
  {
   "cell_type": "markdown",
   "id": "81bbe969-65f5-4e10-ab15-d705740bb0d3",
   "metadata": {},
   "source": [
    "### 2. Inverted Right-angled Triangle "
   ]
  },
  {
   "cell_type": "code",
   "execution_count": 12,
   "id": "44a48a2a-be59-417a-9b45-cbf550cb79f4",
   "metadata": {},
   "outputs": [
    {
     "name": "stdin",
     "output_type": "stream",
     "text": [
      "Enter number of rows:  5\n"
     ]
    },
    {
     "name": "stdout",
     "output_type": "stream",
     "text": [
      "* * * * * \n",
      "* * * * \n",
      "* * * \n",
      "* * \n",
      "* \n"
     ]
    }
   ],
   "source": [
    "n = int(input(\"Enter number of rows: \"))\n",
    "for i in range(n):\n",
    "    for j in range(i,n):\n",
    "        print(\"*\", end= \" \")\n",
    "    print()\n"
   ]
  },
  {
   "cell_type": "markdown",
   "id": "cab19d81-9eb1-487b-9b7f-c2fae230178b",
   "metadata": {},
   "source": [
    "### 3. Number trinagle"
   ]
  },
  {
   "cell_type": "code",
   "execution_count": 20,
   "id": "8620e60f-abc8-462d-9d1c-16fbacff82e9",
   "metadata": {},
   "outputs": [
    {
     "name": "stdin",
     "output_type": "stream",
     "text": [
      "Enter number of rows: 8\n"
     ]
    },
    {
     "name": "stdout",
     "output_type": "stream",
     "text": [
      "0\t\n",
      "1\t1\t\n",
      "2\t2\t2\t\n",
      "3\t3\t3\t3\t\n",
      "4\t4\t4\t4\t4\t\n",
      "5\t5\t5\t5\t5\t5\t\n",
      "6\t6\t6\t6\t6\t6\t6\t\n",
      "7\t7\t7\t7\t7\t7\t7\t7\t\n",
      "8\t8\t8\t8\t8\t8\t8\t8\t8\t\n"
     ]
    }
   ],
   "source": [
    "n = int(input(\"Enter number of rows:\"))\n",
    "for i in range (n+1):\n",
    "    for j in range(i+1):\n",
    "        print(i, end = \"\\t\") #\\t for tab space\n",
    "    print()  "
   ]
  },
  {
   "cell_type": "markdown",
   "id": "bcfb11ec-932e-49d9-a373-68b83710b81b",
   "metadata": {},
   "source": [
    "### 4. Factorial\n",
    "#### 0! = 1\n",
    "#### 1! = 1x0! = 1x1 = 1\n",
    "#### 2! = 2x1! = 2x1 = 2\n",
    "#### 3! = 3x2! = 3x2 = 6\n",
    "#### 4! = 4x3! = 4x6 = 24\n",
    "#### 5! = 5x4! = 5x24= 120\n",
    "#### 6! = 6x5! = 6x120 = 720\n",
    "#### 7! = 7x6! = 7x720 = 5040\n",
    "#### **General formula**\n",
    "#### **n! = nx(n-1)!**"
   ]
  },
  {
   "cell_type": "code",
   "execution_count": 22,
   "id": "b327d1ca-7345-41d9-9344-a867cfa9102d",
   "metadata": {},
   "outputs": [
    {
     "name": "stdin",
     "output_type": "stream",
     "text": [
      "Enter a number: 4\n"
     ]
    },
    {
     "name": "stdout",
     "output_type": "stream",
     "text": [
      "4! : 24\n"
     ]
    }
   ],
   "source": [
    "def factorial(n):\n",
    "    if n<2:\n",
    "        return 1\n",
    "    else : \n",
    "        return n*(factorial(n-1))\n",
    "\n",
    "n = int(input(\"Enter a number:\"))\n",
    "result = factorial(n)\n",
    "\n",
    "print(f\"{n}! : {result}\")"
   ]
  },
  {
   "cell_type": "markdown",
   "id": "20162363-f813-4764-9f5b-489ac1cc3912",
   "metadata": {},
   "source": [
    "### 5. Multiplication Table"
   ]
  },
  {
   "cell_type": "code",
   "execution_count": 21,
   "id": "0a04890b-786b-400d-aef2-c17cdab3beac",
   "metadata": {},
   "outputs": [
    {
     "name": "stdin",
     "output_type": "stream",
     "text": [
      "Multiplication Table of 65\n"
     ]
    },
    {
     "name": "stdout",
     "output_type": "stream",
     "text": [
      "*************************\n",
      "65*1 = 65\n",
      "65*2 = 130\n",
      "65*3 = 195\n",
      "65*4 = 260\n",
      "65*5 = 325\n",
      "65*6 = 390\n",
      "65*7 = 455\n",
      "65*8 = 520\n",
      "65*9 = 585\n",
      "65*10 = 650\n"
     ]
    }
   ],
   "source": [
    "n = int(input(\"Multiplication Table of\"))\n",
    "print(\"*\" * 25)\n",
    "\n",
    "for i in range(1,11):\n",
    "    x = n*i\n",
    "    print(f\"{n}*{i} = {x}\")"
   ]
  },
  {
   "cell_type": "code",
   "execution_count": null,
   "id": "a6dcb6f3-2cc7-40a8-b869-3e523caf8af6",
   "metadata": {},
   "outputs": [],
   "source": []
  }
 ],
 "metadata": {
  "kernelspec": {
   "display_name": "Python 3 (ipykernel)",
   "language": "python",
   "name": "python3"
  },
  "language_info": {
   "codemirror_mode": {
    "name": "ipython",
    "version": 3
   },
   "file_extension": ".py",
   "mimetype": "text/x-python",
   "name": "python",
   "nbconvert_exporter": "python",
   "pygments_lexer": "ipython3",
   "version": "3.11.8"
  }
 },
 "nbformat": 4,
 "nbformat_minor": 5
}
