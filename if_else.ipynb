{
 "cells": [
  {
   "cell_type": "markdown",
   "id": "4a5453c0-3c52-45a6-a643-dfedf51a24ff",
   "metadata": {},
   "source": [
    "## Excercise :2 if-else "
   ]
  },
  {
   "cell_type": "markdown",
   "id": "e2108460-12e6-4eb6-bb23-fac74668875d",
   "metadata": {},
   "source": [
    "### Q1. Write a program to check whether a person is eligible for voting or not. (accept age from user)"
   ]
  },
  {
   "cell_type": "code",
   "execution_count": 5,
   "id": "db47d5aa-b448-445e-a845-1c1a7dce7b6b",
   "metadata": {},
   "outputs": [
    {
     "name": "stdin",
     "output_type": "stream",
     "text": [
      "Name Aby\n",
      "Age 13\n"
     ]
    },
    {
     "name": "stdout",
     "output_type": "stream",
     "text": [
      "Aby\n",
      "not eligible for voting\n"
     ]
    }
   ],
   "source": [
    "name =input('Name')\n",
    "age = int(input('Age'))\n",
    "if age >= 18:\n",
    "    print(f'\\n\\n{name};\\nYou are Eligible for voting')\n",
    "\n",
    "else:\n",
    "    print(f'{name}\\nnot eligible for voting')"
   ]
  },
  {
   "cell_type": "code",
   "execution_count": 10,
   "id": "6e0e162c-474b-46ce-80e6-2f1a9729dceb",
   "metadata": {},
   "outputs": [
    {
     "name": "stdin",
     "output_type": "stream",
     "text": [
      "Name :  Arun\n",
      "Age :  37\n"
     ]
    },
    {
     "name": "stdout",
     "output_type": "stream",
     "text": [
      "\n",
      "\n",
      "Name : Arun;\tAge : 37\n",
      "You are Eligible for voting\n"
     ]
    }
   ],
   "source": [
    "# use lambda function\n",
    "name = input('Name : ')\n",
    "age = int(input('Age : '))\n",
    "check_eligibility = lambda age:\"You are Eligible for voting\" if age>=18 else \"Not Eligible\"\n",
    "print(f'\\n\\nName : {name};\\tAge : {age}\\n{check_eligibility(age)}')\n"
   ]
  },
  {
   "cell_type": "markdown",
   "id": "5bcb08a6-ce17-49e5-a5e6-b88f9208e77e",
   "metadata": {},
   "source": [
    "### Q2. Write a program to check whether a number entered by user is even or odd."
   ]
  },
  {
   "cell_type": "code",
   "execution_count": 14,
   "id": "18879719-9a30-4469-a880-ecda650857cf",
   "metadata": {},
   "outputs": [
    {
     "name": "stdout",
     "output_type": "stream",
     "text": [
      "Check even or odd\n"
     ]
    },
    {
     "name": "stdin",
     "output_type": "stream",
     "text": [
      "Enter the number: 854\n"
     ]
    },
    {
     "name": "stdout",
     "output_type": "stream",
     "text": [
      "EVEN NUMBER\n"
     ]
    }
   ],
   "source": [
    "print('Check even or odd',end ='\\n')\n",
    "x = int(input('Enter the number:'))\n",
    "check_numb = lambda x:'EVEN' if x%2==0 else 'ODD'\n",
    "print(f'{check_numb(x)} NUMBER')"
   ]
  },
  {
   "cell_type": "markdown",
   "id": "074c7e4a-8a37-4144-a36f-1ac8b7da964f",
   "metadata": {},
   "source": [
    "### Q3. Write a program to check whether a number is divisible by 7 or not."
   ]
  },
  {
   "cell_type": "code",
   "execution_count": 17,
   "id": "6f0a6e7c-6335-48b0-8bdc-717c88613fcc",
   "metadata": {},
   "outputs": [
    {
     "name": "stdout",
     "output_type": "stream",
     "text": [
      "Check whether divisible by 7 or not\n"
     ]
    },
    {
     "name": "stdin",
     "output_type": "stream",
     "text": [
      "Enter the number:  4573\n"
     ]
    },
    {
     "name": "stdout",
     "output_type": "stream",
     "text": [
      "\n",
      "4573 : Not divisible by 7\n"
     ]
    }
   ],
   "source": [
    "print('Check whether divisible by 7 or not')\n",
    "y = int(input('Enter the number: '))\n",
    "divisibility_test = lambda y:'Divisble by 7' if y%7==0 else 'Not divisible by 7'\n",
    "print(f\"\\n{y} : {divisibility_test(y)}\")"
   ]
  },
  {
   "cell_type": "markdown",
   "id": "e930512c-7e7e-4c1b-8027-9c45c256050e",
   "metadata": {},
   "source": [
    "### Q4. Write a program to check whether the last digit of a number ( entered by user ) is divisible by 3 or not.\n"
   ]
  },
  {
   "cell_type": "code",
   "execution_count": 30,
   "id": "99f6d757-0efb-48a6-a8f3-52013653d706",
   "metadata": {},
   "outputs": [
    {
     "name": "stdin",
     "output_type": "stream",
     "text": [
      "ENTER NUMBER: 879\n"
     ]
    },
    {
     "name": "stdout",
     "output_type": "stream",
     "text": [
      "NUMBER : 879\n",
      "Last digit:9 \n",
      "Last digit is divisble by 3\n"
     ]
    }
   ],
   "source": [
    "numb = int(input('ENTER NUMBER:'))\n",
    "last_digit = numb%10\n",
    "find_divisiblity = lambda last_digit:'divisble by 3' if last_digit %3 == 0 else 'not divisible by 3'\n",
    "print(f'NUMBER : {numb}\\nLast digit:{last_digit} \\nLast digit is {find_divisiblity(last_digit)}' )"
   ]
  },
  {
   "cell_type": "markdown",
   "id": "d4bc096b-d69c-4cf9-861f-016f9cf11bb9",
   "metadata": {},
   "source": [
    "### Q5. Write a program to display \"Hello\" if a number entered by user is a multiple of five, otherwise print \"Bye\"."
   ]
  },
  {
   "cell_type": "code",
   "execution_count": 32,
   "id": "cdb2a3db-e818-4ec1-a6df-cf003d361aa1",
   "metadata": {},
   "outputs": [
    {
     "name": "stdin",
     "output_type": "stream",
     "text": [
      "Enter the number:  49\n"
     ]
    },
    {
     "name": "stdout",
     "output_type": "stream",
     "text": [
      "Bye\n"
     ]
    }
   ],
   "source": [
    "x = int(input('Enter the number: '))\n",
    "out = lambda x:'Hello' if x%5==0 else 'Bye'\n",
    "print(out(x))"
   ]
  },
  {
   "cell_type": "code",
   "execution_count": null,
   "id": "c0bc275b-0a2a-4605-a215-9123672feac7",
   "metadata": {},
   "outputs": [],
   "source": []
  }
 ],
 "metadata": {
  "kernelspec": {
   "display_name": "Python 3 (ipykernel)",
   "language": "python",
   "name": "python3"
  },
  "language_info": {
   "codemirror_mode": {
    "name": "ipython",
    "version": 3
   },
   "file_extension": ".py",
   "mimetype": "text/x-python",
   "name": "python",
   "nbconvert_exporter": "python",
   "pygments_lexer": "ipython3",
   "version": "3.11.8"
  }
 },
 "nbformat": 4,
 "nbformat_minor": 5
}
