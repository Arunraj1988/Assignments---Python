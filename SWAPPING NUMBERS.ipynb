{
 "cells": [
  {
   "cell_type": "markdown",
   "id": "0490527e-d569-493e-8788-612050490c9b",
   "metadata": {},
   "source": [
    "## SWAPPING PROGRAM"
   ]
  },
  {
   "cell_type": "markdown",
   "id": "e8667c7f-0929-410a-b723-72579401f8cc",
   "metadata": {},
   "source": [
    "### Q1. Swapping using Naive approach"
   ]
  },
  {
   "cell_type": "code",
   "execution_count": 9,
   "id": "6a3d71c3-060f-40dc-9b30-36f8113d757b",
   "metadata": {},
   "outputs": [
    {
     "name": "stdin",
     "output_type": "stream",
     "text": [
      "A = 45\n",
      "B =  54\n"
     ]
    },
    {
     "name": "stdout",
     "output_type": "stream",
     "text": [
      "After swapping\n",
      "A= 54\n",
      "B =45\n"
     ]
    }
   ],
   "source": [
    "x = int (input(\"A =\"))\n",
    "y = int(input(\"B = \"))\n",
    "temp = x\n",
    "x = y\n",
    "y =temp\n",
    "print(\"After swapping\")\n",
    "print(f\"A= {x}\\nB ={y}\")"
   ]
  },
  {
   "cell_type": "markdown",
   "id": "3935f281-505e-4793-aab0-da836a425bf3",
   "metadata": {},
   "source": [
    "### Q2. Swapping First letter and Last letter in a word"
   ]
  },
  {
   "cell_type": "code",
   "execution_count": 10,
   "id": "f001b23b-55d5-40ee-9f3a-95a42452cb0d",
   "metadata": {},
   "outputs": [
    {
     "name": "stdout",
     "output_type": "stream",
     "text": [
      "Orginal   Swap\n",
      "Nibin     nibiN\n"
     ]
    }
   ],
   "source": [
    "org_str = \"Nibin\"\n",
    "swap_str = org_str[-1] + org_str[1:-1]+ org_str[0]\n",
    "print(f\"{'Orginal':<10}{'Swap'}\")\n",
    "print(f\"{org_str:<10}{swap_str}\")"
   ]
  },
  {
   "cell_type": "markdown",
   "id": "f03ed973-e4f8-401a-b324-772242b6a105",
   "metadata": {},
   "source": [
    "### Q3. Using Fuction swap first and last element in a list "
   ]
  },
  {
   "cell_type": "code",
   "execution_count": 11,
   "id": "3d8c45ee-41c0-4212-843a-a11142aa0194",
   "metadata": {},
   "outputs": [
    {
     "name": "stdout",
     "output_type": "stream",
     "text": [
      "Swapping first and last element\n",
      "*******************************\n",
      "Given, my_list : \n",
      "[12, 24, 36, 48, 60, 72, 84]\n",
      "\n",
      "my_list after swapping:\n",
      "[84, 24, 36, 48, 60, 72, 12]\n"
     ]
    }
   ],
   "source": [
    "print(\"Swapping first and last element\")\n",
    "print(\"*\"*31)\n",
    "my_list = [12,24,36,48,60,72,84]\n",
    "def swaplist(my_list):\n",
    "    size = len(my_list)\n",
    "    temp = my_list[0]\n",
    "    my_list[0] = my_list[size-1]\n",
    "    my_list[size-1] = temp\n",
    "    return my_list\n",
    "\n",
    "\n",
    "print(f\"Given, my_list : \\n{my_list}\")\n",
    "print(f\"\\nmy_list after swapping:\\n{swaplist(my_list)}\")\n",
    "\n",
    "    "
   ]
  },
  {
   "cell_type": "markdown",
   "id": "404751b8-0770-4b02-a010-4e2f4362c41a",
   "metadata": {},
   "source": [
    "### Q4. Swapping two numbers using comma"
   ]
  },
  {
   "cell_type": "code",
   "execution_count": 14,
   "id": "b9ae2b95-1860-4d50-94f0-e3edb9af4d07",
   "metadata": {},
   "outputs": [
    {
     "name": "stdin",
     "output_type": "stream",
     "text": [
      "A = 52\n",
      "B = 51\n"
     ]
    },
    {
     "name": "stdout",
     "output_type": "stream",
     "text": [
      "after swapping \n",
      "A = 51\n",
      "B = 52 \n"
     ]
    }
   ],
   "source": [
    "a = int(input(\"A =\"))\n",
    "b = int(input (\"B =\"))\n",
    "\n",
    "#swapping without temp variable\n",
    "a,b =b,a\n",
    "\n",
    "print(f\"after swapping \\nA = {a}\\nB = {b} \")"
   ]
  },
  {
   "cell_type": "markdown",
   "id": "cb165cc7-487e-4b86-bbcc-099ad56595de",
   "metadata": {},
   "source": [
    "### Q5. Swapping using XOR"
   ]
  },
  {
   "cell_type": "code",
   "execution_count": 19,
   "id": "54105847-dc35-4661-853d-f25f0999b0c3",
   "metadata": {},
   "outputs": [
    {
     "name": "stdin",
     "output_type": "stream",
     "text": [
      "x =  25\n",
      "y =  54\n"
     ]
    },
    {
     "name": "stdout",
     "output_type": "stream",
     "text": [
      "Value of x,y after swapping\n",
      "x = 54\n",
      "y = 25\n"
     ]
    }
   ],
   "source": [
    "x = int(input(\"x = \"))\n",
    "y = int(input(\"y = \"))\n",
    "\n",
    "#swapping without temp variable\n",
    "x = x^y\n",
    "y = x^y\n",
    "x = x^y\n",
    "\n",
    "print(\"Value of x,y after swapping\")\n",
    "print(f\"x = {x}\\ny = {y}\")"
   ]
  },
  {
   "cell_type": "code",
   "execution_count": null,
   "id": "6feed36e-46f3-4fbb-b431-4e8444b2f585",
   "metadata": {},
   "outputs": [],
   "source": []
  }
 ],
 "metadata": {
  "kernelspec": {
   "display_name": "Python 3 (ipykernel)",
   "language": "python",
   "name": "python3"
  },
  "language_info": {
   "codemirror_mode": {
    "name": "ipython",
    "version": 3
   },
   "file_extension": ".py",
   "mimetype": "text/x-python",
   "name": "python",
   "nbconvert_exporter": "python",
   "pygments_lexer": "ipython3",
   "version": "3.11.8"
  }
 },
 "nbformat": 4,
 "nbformat_minor": 5
}
